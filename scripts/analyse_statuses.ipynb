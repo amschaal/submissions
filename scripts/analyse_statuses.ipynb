{
 "cells": [
  {
   "cell_type": "code",
   "execution_count": null,
   "id": "d5d6a16b",
   "metadata": {},
   "outputs": [],
   "source": [
    "import pandas as pd\n",
    "\n",
    "# Load the TSV file obtained from exporting the submission\n",
    "file_path = 'submissions.tsv'\n",
    "df = pd.read_csv(file_path, delimiter=\"\\t\")\n",
    "\n",
    "# Display the first few rows of the data\n",
    "df.head()\n"
   ]
  },
  {
   "cell_type": "code",
   "execution_count": null,
   "id": "7cc5211f",
   "metadata": {},
   "outputs": [],
   "source": [
    "import json\n",
    "\n",
    "def clean_json(x):\n",
    "    \"Create apply function for decoding JSON\"\n",
    "    return json.loads(x.replace(\"'\",'\"'))\n",
    "\n",
    "# parse JSON from Status Durations field\n",
    "df['Status Durations Parsed'] = df['Status Durations'].apply(clean_json)"
   ]
  },
  {
   "cell_type": "code",
   "execution_count": null,
   "id": "f7e64b66",
   "metadata": {},
   "outputs": [],
   "source": [
    "# Get set of all statuses.  Each row has key value pairs of status and total seconds spent in that status.  So we need to get the unique set of all such keys.\n",
    "statuses = set(x for xs in df['Status Durations Parsed'].agg(lambda x: set(x.keys())) for x in xs)\n",
    "# status_cols = ['Status {}'.format(s) for s in statuses]\n",
    "for s in statuses:\n",
    "    df['Status {}'.format(s)] = df['Status Durations Parsed'].apply(lambda x: x.get(s))\n",
    "df.head()"
   ]
  },
  {
   "cell_type": "code",
   "execution_count": null,
   "id": "e6bb7a54",
   "metadata": {},
   "outputs": [],
   "source": [
    "df.groupby('Type')[['Status {}'.format(s) for s in statuses]].agg('mean')/3600"
   ]
  }
 ],
 "metadata": {
  "kernelspec": {
   "display_name": "Python 3 (ipykernel)",
   "language": "python",
   "name": "python3"
  },
  "language_info": {
   "codemirror_mode": {
    "name": "ipython",
    "version": 3
   },
   "file_extension": ".py",
   "mimetype": "text/x-python",
   "name": "python",
   "nbconvert_exporter": "python",
   "pygments_lexer": "ipython3",
   "version": "3.8.13"
  }
 },
 "nbformat": 4,
 "nbformat_minor": 5
}
