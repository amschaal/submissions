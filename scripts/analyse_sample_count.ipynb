{
 "cells": [
  {
   "cell_type": "code",
   "execution_count": null,
   "metadata": {},
   "outputs": [],
   "source": [
    "import pandas as pd\n",
    "\n",
    "# Load the TSV file obtained from exporting the submission\n",
    "file_path = 'submissions.tsv'\n",
    "df = pd.read_csv(file_path, delimiter=\"\\t\")\n",
    "\n",
    "# Display the first few rows of the data\n",
    "df.head()"
   ]
  },
  {
   "cell_type": "code",
   "execution_count": null,
   "metadata": {},
   "outputs": [],
   "source": [
    "# Convert Submitted column to datetime\n",
    "df['Submitted'] = pd.to_datetime(df['Submitted'], errors='coerce')\n",
    "\n",
    "# Group by submission type, year, and month.  Get total sample and library numbers\n",
    "sample_count = df.groupby(['Type', df.Submitted.dt.year, df.Submitted.dt.month])[['samples','libraries']].sum()\n",
    "\n",
    "# Get combined samples and library numbers for each type\n",
    "sample_count['all'] = sample_count['samples'] + sample_count['libraries']\n",
    "sample_count"
   ]
  }
 ],
 "metadata": {
  "kernelspec": {
   "display_name": "jupyter",
   "language": "python",
   "name": "python3"
  },
  "language_info": {
   "codemirror_mode": {
    "name": "ipython",
    "version": 3
   },
   "file_extension": ".py",
   "mimetype": "text/x-python",
   "name": "python",
   "nbconvert_exporter": "python",
   "pygments_lexer": "ipython3",
   "version": "3.8.13"
  }
 },
 "nbformat": 4,
 "nbformat_minor": 2
}
